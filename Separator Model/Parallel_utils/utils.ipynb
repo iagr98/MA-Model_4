{
 "cells": [
  {
   "cell_type": "markdown",
   "id": "a7e59558",
   "metadata": {},
   "source": [
    "# 1. Validation\n",
    "\n",
    "The following code serves for determining the right exponent of the convective velocity $\\alpha$\n",
    "\n",
    "$u_{dis} = u_0 * (1-x^{\\alpha})$\n",
    "\n",
    "Inputs are:\n",
    "- alpha = List with exponent's values. should be as few as possible. Computationally very expensive\n",
    "- experiment = The type of substance being analysed (\"2mmol_21C\", \"2mmol_30C\", \"5mmol_30C\", \"10mmol_21C\", \"10mmol_30C\", \"15mmol_20C\", \"15mmol_30C\")"
   ]
  },
  {
   "cell_type": "code",
   "execution_count": 1,
   "id": "8c7b8d35",
   "metadata": {},
   "outputs": [
    {
     "name": "stdout",
     "output_type": "stream",
     "text": [
      "alpha=  3.0\n",
      "dpz_m=  [0.322  0.3108 0.2996 0.2744 0.2548 0.224  0.21   0.1792]\n",
      "dpz_e=  [0.4315 0.3454 0.3395 0.3542 0.3698 0.3424 0.2935 0.2309] \n",
      "\n",
      "alpha=  4.0\n",
      "dpz_m=  [0.3276 0.3164 0.3052 0.28   0.2604 0.2408 0.2184 0.2408]\n",
      "dpz_e=  [0.4315 0.3454 0.3395 0.3542 0.3698 0.3424 0.2935 0.2309] \n",
      "\n"
     ]
    },
    {
     "data": {
      "image/png": "[encoded data removed]",
      "text/plain": [
       "<Figure size 640x480 with 1 Axes>"
      ]
     },
     "metadata": {},
     "output_type": "display_data"
    }
   ],
   "source": [
    "import numpy as np\n",
    "import matplotlib.pyplot as plt\n",
    "import pandas as pd\n",
    "import joblib\n",
    "import helper_functions as hf\n",
    "from sim_run import run_sim\n",
    "import csv\n",
    "from sim_run_parallel_validation import parallel_simulation\n",
    "\n",
    "alpha = [3.0, 4.0]\n",
    "experiment = \"ye\"\n",
    "dV_ges_ye = 160\n",
    "total_guess = np.zeros(len(alpha))\n",
    "total_mape = np.zeros(len(alpha))\n",
    "dpz_m_history = []\n",
    "N_CPU = 8\n",
    "sheet_name = \"main\" if experiment == \"ye\" else \"sozh\"\n",
    "df = pd.read_excel(\"Input/data_main.xlsx\", sheet_name=sheet_name)\n",
    "if (experiment ==\"2mmol_21C\"):\n",
    "    tests = [1, 9, 19]\n",
    "    dpz_e = [0, 0, 1]\n",
    "elif(experiment==\"2mmol_30C\"):\n",
    "    tests = [32, 42]\n",
    "    dpz_e = [1, 1]\n",
    "elif(experiment==\"5mmol_30C\"):\n",
    "    tests = [78, 104]\n",
    "    dpz_e = [1, 1]\n",
    "elif(experiment==\"10mmol_21C\"):\n",
    "    tests = [146, 111, 116, 149, 120, 152, 155, 122, 158, 157, 132, 160, 137, 143]\n",
    "    dpz_e = [1, 0, 1, 0, 1, 0, 1, 0, 1, 0, 1, 0, 1, 1]\n",
    "elif(experiment==\"10mmol_30C\"):\n",
    "    tests = [176, 174, 182, 181, 189, 188, 196, 194, 203, 201, 220, 229]\n",
    "    dpz_e = [1, 0, 1, 0, 1, 0, 1, 0, 1, 0, 1, 1]\n",
    "elif(experiment==\"15mmol_20C\"):\n",
    "    tests = [237, 236, 245, 243, 252, 250, 258, 255, 265, 262, 273, 269, 282, 292]\n",
    "    dpz_e = [1, 0, 1, 0, 1, 0, 1, 0, 1, 0, 1, 0, 1, 1]\n",
    "elif(experiment==\"15mmol_30C\"):\n",
    "    tests = [300, 299, 307, 306, 314, 312, 321, 318, 328, 325, 338, 332, 347, 357]\n",
    "    dpz_e = [1, 0, 1, 0, 1, 0, 1, 0, 1, 0, 1, 0, 1, 1]\n",
    "elif(experiment==\"ye\"):\n",
    "    tests = df[(df['dpz_flooded'] != -1) & (df['dV_ges'] == dV_ges_ye)].index\n",
    "    dpz_e = np.array(df['L_DPZ'][tests])\n",
    "else:\n",
    "    raise('Unrecognized experiment name')\n",
    "\n",
    "\n",
    "df = df.iloc[tests]\n",
    "exp = df['exp'].tolist()\n",
    "phi_0 = df['phi_0'].tolist()\n",
    "dV_ges = df['dV_ges'].tolist()\n",
    "eps_0 = df['eps_0'].tolist()\n",
    "if (experiment != \"ye\"):\n",
    "    h_c_0 = df['h_c_0'].tolist()\n",
    "    h_dis_0 = df['h_dis_0'].tolist()\n",
    "\n",
    "for k in range(len(alpha)):    \n",
    "    \n",
    "    dpz_m = np.zeros(len(dpz_e))\n",
    "    guess = 0\n",
    "    diff = np.zeros(len(dpz_e))\n",
    "\n",
    "    exponent = alpha[k]\n",
    "\n",
    "    if (experiment == \"ye\"):\n",
    "        parameters = [(exp[i], phi_0[i], dV_ges[i], eps_0[i], exponent) for i in range(len(exp))]\n",
    "    else:\n",
    "        parameters = [(exp[i], phi_0[i], dV_ges[i], eps_0[i], h_c_0[i], h_dis_0[i], exponent) for i in range(len(exp))]\n",
    "        \n",
    "    results = joblib.Parallel(n_jobs=N_CPU, backend='multiprocessing')(joblib.delayed(parallel_simulation)(param) for param in parameters)\n",
    "\n",
    "    for j in range(len(results)):\n",
    "        if (experiment == 'ye'):\n",
    "            dpz_m[j] = results[j]['L_DPZ']\n",
    "            denominator = dpz_e[j] if dpz_e[j] != 0 else dpz_m[j]\n",
    "            diff [j] = abs((dpz_e[j]-dpz_m[j])/denominator)\n",
    "        else:\n",
    "            dpz_m[j] = 1 if (results[j]['dpz_flooded']) else 0\n",
    "            if (dpz_m[j]==dpz_e[j]):\n",
    "                guess +=1\n",
    "            else:\n",
    "                continue\n",
    "    print('alpha= ', exponent)\n",
    "    print('dpz_m= ', dpz_m)\n",
    "    print('dpz_e= ', dpz_e, '\\n')\n",
    "    dpz_m_history.append(dpz_m)\n",
    "    total_guess[k] = guess\n",
    "    total_mape[k] = np.mean(diff) * 100\n",
    "\n",
    "if (experiment=='ye'):\n",
    "    df_out = pd.DataFrame({\n",
    "        \"experiment\": experiment,\n",
    "        \"alpha\": alpha,\n",
    "        \"total_mape\": total_mape.astype(int),\n",
    "        \"total_exp\":len(tests)\n",
    "    })\n",
    "    fname = f\"{experiment}_{dV_ges_ye}_alpha_{alpha[0]}_{alpha[-1]}.csv\"\n",
    "    df_out.to_csv(fname, index=False)\n",
    "else:\n",
    "    df_out = pd.DataFrame({\n",
    "        \"experiment\": experiment,\n",
    "        \"alpha\": alpha,\n",
    "        \"total_guess\": total_guess.astype(int),\n",
    "        \"total_exp\":len(tests),\n",
    "        \"total_guess_p\": (total_guess.astype(int)/len(tests))\n",
    "    })\n",
    "    fname = f\"{experiment}_alpha_{alpha[0]}_{alpha[-1]}.csv\"\n",
    "    df_out.to_csv(fname, index=False)\n",
    "\n",
    "\n",
    "if (experiment=='ye'):\n",
    "    plt.bar(alpha, total_mape, width=0.1)\n",
    "    plt.ylabel('MAPE [%]')\n",
    "else:\n",
    "    plt.bar(alpha, 100*total_guess/len(tests), width=0.1)\n",
    "    plt.ylabel('Correct guess [%]')\n",
    "plt.xlabel('alpha')\n",
    "plt.title(f'{experiment}, total of samples= {len(tests)}')\n",
    "plt.grid()\n",
    "plt.show()"
   ]
  },
  {
   "cell_type": "code",
   "execution_count": null,
   "id": "9cc8a89c",
   "metadata": {},
   "outputs": [
    {
     "name": "stdout",
     "output_type": "stream",
     "text": [
      "alpha=  5\n",
      "dpz_m=  [0.3724 0.3556 0.3332 0.308  0.28   0.2576 0.2324 0.21   0.1904]\n",
      "dpz_e=  [0.56   0.56   0.56   0.56   0.56   0.4593 0.3637 0.325  0.2624] \n",
      "\n",
      "alpha=  5.5\n",
      "dpz_m=  [0.3724 0.3556 0.3332 0.308  0.28   0.2576 0.2324 0.21   0.1904]\n",
      "dpz_e=  [0.56   0.56   0.56   0.56   0.56   0.4593 0.3637 0.325  0.2624] \n",
      "\n",
      "alpha=  6\n",
      "dpz_m=  [0.3724 0.3556 0.3332 0.308  0.28   0.2576 0.2324 0.21   0.1904]\n",
      "dpz_e=  [0.56   0.56   0.56   0.56   0.56   0.4593 0.3637 0.325  0.2624] \n",
      "\n",
      "alpha=  6.25\n",
      "dpz_m=  [0.3724 0.3556 0.3332 0.308  0.28   0.2576 0.2324 0.21   0.1904]\n",
      "dpz_e=  [0.56   0.56   0.56   0.56   0.56   0.4593 0.3637 0.325  0.2624] \n",
      "\n"
     ]
    },
    {
     "data": {
      "image/png": "[encoded data removed]",
      "text/plain": [
       "<Figure size 640x480 with 1 Axes>"
      ]
     },
     "metadata": {},
     "output_type": "display_data"
    }
   ],
   "source": [
    "if (exp=='2mmol_21C'):\n",
    "    exponent = 1.75\n",
    "elif(exp=='2mmol_30C'):\n",
    "    exponent = 10\n",
    "elif(exp=='5mmol_30C'):\n",
    "    exponent = 10\n",
    "elif(exp=='10mmol_21C' or exp=='10mmol_30C'):\n",
    "    exponent = 1.75\n",
    "elif(exp=='15mmol_20C'):\n",
    "    exponent = 1.84\n",
    "elif(exp=='15mmol_30C'):\n",
    "    exponent=2.6\n",
    "elif(exp=='ye' and dV_ges==160):\n",
    "    exponent = 4.5\n",
    "elif(exp=='ye' and dV_ges==200):\n",
    "    exponent = 5.4\n",
    "elif(exp=='ye' and dV_ges==240):\n",
    "    exponent = 6.25\n",
    "elif(exp=='ye' and dV_ges==280):\n",
    "    exponent = 5.4\n",
    "else:\n",
    "    exponent = 1.75\n"
   ]
  },
  {
   "cell_type": "code",
   "execution_count": 2,
   "id": "d0ad4a94",
   "metadata": {},
   "outputs": [
    {
     "data": {
      "image/png": "[encoded data removed]",
      "text/plain": [
       "<Figure size 640x480 with 1 Axes>"
      ]
     },
     "metadata": {},
     "output_type": "display_data"
    }
   ],
   "source": [
    "if (experiment=='ye'):\n",
    "    plt.bar(alpha, total_mape, width=0.05)\n",
    "    plt.ylabel('MAPE [%]')\n",
    "else:\n",
    "    plt.bar(alpha, 100*total_guess/len(tests), width=0.1)\n",
    "    plt.ylabel('Correct guess [%]')\n",
    "plt.xlabel('alpha')\n",
    "plt.title(f'{experiment}, total of samples= {len(tests)}')\n",
    "plt.grid()\n",
    "plt.show()"
   ]
  },
  {
   "cell_type": "markdown",
   "id": "09633e6c",
   "metadata": {},
   "source": [
    "Code for saving results in a csv file:"
   ]
  },
  {
   "cell_type": "code",
   "execution_count": 13,
   "id": "81dcba5b",
   "metadata": {},
   "outputs": [
    {
     "ename": "NameError",
     "evalue": "name 'alpha' is not defined",
     "output_type": "error",
     "traceback": [
      "\u001b[31m---------------------------------------------------------------------------\u001b[39m",
      "\u001b[31mNameError\u001b[39m                                 Traceback (most recent call last)",
      "\u001b[36mCell\u001b[39m\u001b[36m \u001b[39m\u001b[32mIn[13]\u001b[39m\u001b[32m, line 3\u001b[39m\n\u001b[32m      1\u001b[39m df_out = pd.DataFrame({\n\u001b[32m      2\u001b[39m     \u001b[33m\"\u001b[39m\u001b[33mexperiment\u001b[39m\u001b[33m\"\u001b[39m: experiment,\n\u001b[32m----> \u001b[39m\u001b[32m3\u001b[39m     \u001b[33m\"\u001b[39m\u001b[33malpha\u001b[39m\u001b[33m\"\u001b[39m: \u001b[43malpha\u001b[49m,\n\u001b[32m      4\u001b[39m     \u001b[33m\"\u001b[39m\u001b[33mtotal_guess\u001b[39m\u001b[33m\"\u001b[39m: total_guess.astype(\u001b[38;5;28mint\u001b[39m),\n\u001b[32m      5\u001b[39m     \u001b[33m\"\u001b[39m\u001b[33mtotal_exp\u001b[39m\u001b[33m\"\u001b[39m:\u001b[38;5;28mlen\u001b[39m(tests),\n\u001b[32m      6\u001b[39m     \u001b[33m\"\u001b[39m\u001b[33mtotal_guess_p\u001b[39m\u001b[33m\"\u001b[39m: (total_guess.astype(\u001b[38;5;28mint\u001b[39m)/\u001b[38;5;28mlen\u001b[39m(tests))\n\u001b[32m      7\u001b[39m })\n\u001b[32m      8\u001b[39m fname = \u001b[33mf\u001b[39m\u001b[33m\"\u001b[39m\u001b[38;5;132;01m{\u001b[39;00mexperiment\u001b[38;5;132;01m}\u001b[39;00m\u001b[33m_alpha_\u001b[39m\u001b[38;5;132;01m{\u001b[39;00malpha[\u001b[32m0\u001b[39m]\u001b[38;5;132;01m}\u001b[39;00m\u001b[33m_\u001b[39m\u001b[38;5;132;01m{\u001b[39;00malpha[-\u001b[32m1\u001b[39m]\u001b[38;5;132;01m}\u001b[39;00m\u001b[33m.csv\u001b[39m\u001b[33m\"\u001b[39m\n\u001b[32m      9\u001b[39m df_out.to_csv(fname, index=\u001b[38;5;28;01mFalse\u001b[39;00m)\n",
      "\u001b[31mNameError\u001b[39m: name 'alpha' is not defined"
     ]
    }
   ],
   "source": [
    "df_out = pd.DataFrame({\n",
    "    \"experiment\": experiment,\n",
    "    \"alpha\": alpha,\n",
    "    \"total_guess\": total_guess.astype(int),\n",
    "    \"total_exp\":len(tests),\n",
    "    \"total_guess_p\": (total_guess.astype(int)/len(tests))\n",
    "})\n",
    "fname = f\"{experiment}_alpha_{alpha[0]}_{alpha[-1]}.csv\"\n",
    "df_out.to_csv(fname, index=False)\n",
    "\n",
    "\n",
    "\n",
    "df_cmp = pd.DataFrame(dpz_m_history, index=[f\"alpha={a}\" for a in alpha])\n",
    "df_cmp.loc[\"dpz_e\"] = dpz_e\n",
    "df_cmp = df_cmp.loc[[\"dpz_e\"] + [f\"alpha={a}\" for a in alpha]]"
   ]
  },
  {
   "cell_type": "markdown",
   "id": "710f5bf8",
   "metadata": {},
   "source": [
    "## Information about tests\n",
    "\n",
    "All the tests are contained in data_main.xlsx. For filtering per experiment, the following information is needed:"
   ]
  },
  {
   "cell_type": "code",
   "execution_count": 44,
   "id": "f54a3236",
   "metadata": {},
   "outputs": [
    {
     "ename": "TypeError",
     "evalue": "exceptions must derive from BaseException",
     "output_type": "error",
     "traceback": [
      "\u001b[31m---------------------------------------------------------------------------\u001b[39m",
      "\u001b[31mTypeError\u001b[39m                                 Traceback (most recent call last)",
      "\u001b[36mCell\u001b[39m\u001b[36m \u001b[39m\u001b[32mIn[44]\u001b[39m\u001b[32m, line 24\u001b[39m\n\u001b[32m     22\u001b[39m     dpz_e = [\u001b[32m1\u001b[39m, \u001b[32m0\u001b[39m, \u001b[32m1\u001b[39m, \u001b[32m0\u001b[39m, \u001b[32m1\u001b[39m, \u001b[32m0\u001b[39m, \u001b[32m1\u001b[39m, \u001b[32m0\u001b[39m, \u001b[32m1\u001b[39m, \u001b[32m0\u001b[39m, \u001b[32m1\u001b[39m, \u001b[32m0\u001b[39m, \u001b[32m1\u001b[39m, \u001b[32m1\u001b[39m]\n\u001b[32m     23\u001b[39m \u001b[38;5;28;01melse\u001b[39;00m:\n\u001b[32m---> \u001b[39m\u001b[32m24\u001b[39m     \u001b[38;5;28;01mraise\u001b[39;00m(\u001b[33m'\u001b[39m\u001b[33mUnrecognized experiment name\u001b[39m\u001b[33m'\u001b[39m)\n",
      "\u001b[31mTypeError\u001b[39m: exceptions must derive from BaseException"
     ]
    }
   ],
   "source": [
    "if (experiment ==\"2mmol_21C\"):\n",
    "    tests = [1, 9, 19]\n",
    "    dpz_e = [0, 0, 1]\n",
    "elif(experiment==\"2mmol_30C\"):\n",
    "    tests = [32, 42]\n",
    "    dpz_e = [1, 1]\n",
    "elif(experiment==\"5mmol_30C\"):\n",
    "    tests = [78, 104]\n",
    "    dpz_e = [1, 1]\n",
    "elif(experiment==\"10mmol_21C\"):\n",
    "    tests = [146, 111, 116, 149, 120, 152, 155, 122, 158, 157, 132, 160, 137, 143]\n",
    "    dpz_e = [1, 0, 1, 0, 1, 0, 1, 0, 1, 0, 1, 0, 1, 1]\n",
    "elif(experiment==\"10mmol_30C\"):\n",
    "    tests = [176, 174, 182, 181, 189, 188, 196, 194, 203, 201, 220, 229]\n",
    "    dpz_e = [1, 0, 1, 0, 1, 0, 1, 0, 1, 0, 1, 1]\n",
    "elif(experiment==\"15mmol_20C\"):\n",
    "    tests = [237, 236, 245, 243, 252, 250, 258, 255, 265, 262, 273, 269, 282, 292]\n",
    "    dpz_e = [1, 0, 1, 0, 1, 0, 1, 0, 1, 0, 1, 0, 1, 1]\n",
    "elif(experiment==\"15mmol_30C\"):\n",
    "    tests = [300, 299, 307, 306, 314, 312, 321, 318, 328, 325, 338, 332, 347, 357]\n",
    "    dpz_e = [1, 0, 1, 0, 1, 0, 1, 0, 1, 0, 1, 0, 1, 1]\n",
    "else:\n",
    "    raise('Unrecognized experiment name')"
   ]
  },
  {
   "cell_type": "code",
   "execution_count": 12,
   "id": "2e51b9ab",
   "metadata": {},
   "outputs": [
    {
     "name": "stdout",
     "output_type": "stream",
     "text": [
      "Index([0, 1, 2, 3, 4, 5, 6, 7], dtype='int64')\n",
      "0    0\n",
      "1    0\n",
      "2    0\n",
      "3    0\n",
      "4    0\n",
      "5    0\n",
      "6    0\n",
      "7    0\n",
      "Name: dpz_flooded, dtype: int64\n",
      "0    160\n",
      "1    160\n",
      "2    160\n",
      "3    160\n",
      "4    160\n",
      "5    160\n",
      "6    160\n",
      "7    160\n",
      "Name: dV_ges, dtype: int64\n"
     ]
    }
   ],
   "source": [
    "import pandas as pd\n",
    "experiment = 'ye'\n",
    "sheet_name = \"main\" if experiment == \"ye\" else \"sozh\"\n",
    "df = pd.read_excel(\"Input/data_main.xlsx\", sheet_name=sheet_name)\n",
    "dpz_e = df['dpz_flooded']\n",
    "\n",
    "indices = df[(df['dpz_flooded'] != -1) & (df['dV_ges'] == 160)].index\n",
    "print(indices)\n",
    "print(df['dpz_flooded'][indices])\n",
    "print(df['dV_ges'][indices])"
   ]
  }
 ],
 "metadata": {
  "kernelspec": {
   "display_name": "MA_venv (3.12.8)",
   "language": "python",
   "name": "python3"
  },
  "language_info": {
   "codemirror_mode": {
    "name": "ipython",
    "version": 3
   },
   "file_extension": ".py",
   "mimetype": "text/x-python",
   "name": "python",
   "nbconvert_exporter": "python",
   "pygments_lexer": "ipython3",
   "version": "3.12.8"
  }
 },
 "nbformat": 4,
 "nbformat_minor": 5
}
