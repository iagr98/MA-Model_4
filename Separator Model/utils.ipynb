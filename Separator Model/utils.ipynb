{
 "cells": [
  {
   "cell_type": "markdown",
   "id": "a7e59558",
   "metadata": {},
   "source": [
    "# 1. Validation\n",
    "\n",
    "The following code serves for determining the right exponent of the convective velocity $\\alpha$\n",
    "\n",
    "$u_{dis} = u_0 * (1-x^{\\alpha})$\n",
    "\n",
    "Inputs are:\n",
    "- alpha = List with exponent's values. should be as few as possible. Computationally very expensive\n",
    "- experiment = The type of substance being analysed (\"2mmol_21C\", \"2mmol_30C\", \"5mmol_30C\", \"10mmol_21C\", \"10mmol_30C\", \"15mmol_20C\", \"15mmol_30C\")"
   ]
  },
  {
   "cell_type": "code",
   "execution_count": 1,
   "id": "8c7b8d35",
   "metadata": {},
   "outputs": [
    {
     "name": "stdout",
     "output_type": "stream",
     "text": [
      "alpha=  2.45\n",
      "dpz_m=  [0. 0. 0. 0. 1. 0. 0. 0. 1. 1. 1. 1. 1. 1.]\n",
      "dpz_e=  [1, 0, 1, 0, 1, 0, 1, 0, 1, 0, 1, 0, 1, 1] \n",
      "\n",
      "alpha=  2.55\n",
      "dpz_m=  [0. 0. 0. 0. 1. 0. 1. 0. 1. 1. 1. 1. 1. 1.]\n",
      "dpz_e=  [1, 0, 1, 0, 1, 0, 1, 0, 1, 0, 1, 0, 1, 1] \n",
      "\n",
      "alpha=  2.575\n",
      "dpz_m=  [0. 0. 0. 0. 1. 0. 1. 0. 1. 1. 1. 1. 1. 1.]\n",
      "dpz_e=  [1, 0, 1, 0, 1, 0, 1, 0, 1, 0, 1, 0, 1, 1] \n",
      "\n",
      "alpha=  2.625\n",
      "dpz_m=  [0. 0. 0. 0. 1. 0. 1. 0. 1. 1. 1. 1. 1. 1.]\n",
      "dpz_e=  [1, 0, 1, 0, 1, 0, 1, 0, 1, 0, 1, 0, 1, 1] \n",
      "\n",
      "alpha=  2.65\n",
      "dpz_m=  [0. 0. 0. 0. 1. 0. 1. 0. 1. 1. 1. 1. 1. 1.]\n",
      "dpz_e=  [1, 0, 1, 0, 1, 0, 1, 0, 1, 0, 1, 0, 1, 1] \n",
      "\n",
      "alpha=  2.675\n",
      "dpz_m=  [0. 0. 0. 0. 1. 0. 1. 0. 1. 1. 1. 1. 1. 1.]\n",
      "dpz_e=  [1, 0, 1, 0, 1, 0, 1, 0, 1, 0, 1, 0, 1, 1] \n",
      "\n",
      "alpha=  2.725\n",
      "dpz_m=  [0. 0. 0. 0. 1. 0. 1. 1. 1. 1. 1. 1. 1. 1.]\n",
      "dpz_e=  [1, 0, 1, 0, 1, 0, 1, 0, 1, 0, 1, 0, 1, 1] \n",
      "\n",
      "alpha=  2.75\n",
      "dpz_m=  [0. 0. 1. 1. 1. 1. 1. 1. 1. 1. 1. 1. 1. 1.]\n",
      "dpz_e=  [1, 0, 1, 0, 1, 0, 1, 0, 1, 0, 1, 0, 1, 1] \n",
      "\n"
     ]
    },
    {
     "data": {
      "image/png": "[encoded data removed]",
      "text/plain": [
       "<Figure size 640x480 with 1 Axes>"
      ]
     },
     "metadata": {},
     "output_type": "display_data"
    }
   ],
   "source": [
    "import numpy as np\n",
    "import matplotlib.pyplot as plt\n",
    "import pandas as pd\n",
    "import joblib\n",
    "import helper_functions as hf\n",
    "from sim_run import run_sim\n",
    "import csv\n",
    "from sim_run_parallel_validation import parallel_simulation\n",
    "\n",
    "alpha = [2.45, 2.55, 2.575, 2.625, 2.65, 2.675, 2.725, 2.75]\n",
    "experiment = \"15mmol_30C\"\n",
    "total_guess = np.zeros(len(alpha))\n",
    "dpz_m_history = []\n",
    "N_CPU = 8\n",
    "\n",
    "for k in range(len(alpha)):    \n",
    "    if (experiment ==\"2mmol_21C\"):\n",
    "        tests = [1, 9, 19]\n",
    "        dpz_e = [0, 0, 1]\n",
    "    elif(experiment==\"2mmol_30C\"):\n",
    "        tests = [32, 42]\n",
    "        dpz_e = [1, 1]\n",
    "    elif(experiment==\"5mmol_30C\"):\n",
    "        tests = [78, 104]\n",
    "        dpz_e = [1, 1]\n",
    "    elif(experiment==\"10mmol_21C\"):\n",
    "        tests = [146, 111, 116, 149, 120, 152, 155, 122, 158, 157, 132, 160, 137, 143]\n",
    "        dpz_e = [1, 0, 1, 0, 1, 0, 1, 0, 1, 0, 1, 0, 1, 1]\n",
    "    elif(experiment==\"10mmol_30C\"):\n",
    "        tests = [176, 174, 182, 181, 189, 188, 196, 194, 203, 201, 220, 229]\n",
    "        dpz_e = [1, 0, 1, 0, 1, 0, 1, 0, 1, 0, 1, 1]\n",
    "    elif(experiment==\"15mmol_20C\"):\n",
    "        tests = [237, 236, 245, 243, 252, 250, 258, 255, 265, 262, 273, 269, 282, 292]\n",
    "        dpz_e = [1, 0, 1, 0, 1, 0, 1, 0, 1, 0, 1, 0, 1, 1]\n",
    "    elif(experiment==\"15mmol_30C\"):\n",
    "        tests = [300, 299, 307, 306, 314, 312, 321, 318, 328, 325, 338, 332, 347, 357]\n",
    "        dpz_e = [1, 0, 1, 0, 1, 0, 1, 0, 1, 0, 1, 0, 1, 1]\n",
    "    else:\n",
    "        raise('Unrecognized experiment name')\n",
    "    \n",
    "    df = pd.read_excel(\"Input/data_main.xlsx\", sheet_name=\"sozh\")\n",
    "    df = df.iloc[tests]\n",
    "    exp = df['exp'].tolist()\n",
    "    phi_0 = df['phi_0'].tolist()\n",
    "    dV_ges = df['dV_ges'].tolist()\n",
    "    eps_0 = df['eps_0'].tolist()\n",
    "    h_c_0 = df['h_c_0'].tolist()\n",
    "    h_dis_0 = df['h_dis_0'].tolist()\n",
    "    dpz_m = np.zeros(len(dpz_e))\n",
    "    guess = 0\n",
    "\n",
    "    exponent = alpha[k]\n",
    "\n",
    "    parameters = [(exp[i], phi_0[i], dV_ges[i], eps_0[i], h_c_0[i], h_dis_0[i], exponent) for i in range(len(exp))]\n",
    "    results = joblib.Parallel(n_jobs=N_CPU, backend='multiprocessing')(joblib.delayed(parallel_simulation)(param) for param in parameters)\n",
    "\n",
    "    for j in range(len(results)):\n",
    "        dpz_m[j] = 1 if (results[j]['dpz_flooded']) else 0\n",
    "        if (dpz_m[j]==dpz_e[j]):\n",
    "            guess +=1\n",
    "        else:\n",
    "            continue\n",
    "    print('alpha= ', exponent)\n",
    "    print('dpz_m= ', dpz_m)\n",
    "    print('dpz_e= ', dpz_e, '\\n')\n",
    "    dpz_m_history.append(dpz_m)\n",
    "    total_guess[k] = guess\n",
    "\n",
    "\n",
    "df_out = pd.DataFrame({\n",
    "    \"experiment\": experiment,\n",
    "    \"alpha\": alpha,\n",
    "    \"total_guess\": total_guess.astype(int),\n",
    "    \"total_exp\":len(tests),\n",
    "    \"total_guess_p\": (total_guess.astype(int)/len(tests))\n",
    "})\n",
    "fname = f\"{experiment}_alpha_{alpha[0]}_{alpha[-1]}.csv\"\n",
    "df_out.to_csv(fname, index=False)\n",
    "\n",
    "\n",
    "\n",
    "df_cmp = pd.DataFrame(dpz_m_history, index=[f\"alpha={a}\" for a in alpha])\n",
    "df_cmp.loc[\"dpz_e\"] = dpz_e\n",
    "df_cmp = df_cmp.loc[[\"dpz_e\"] + [f\"alpha={a}\" for a in alpha]]\n",
    "\n",
    "\n",
    "plt.bar(alpha, 100*total_guess/len(tests), width=0.1)\n",
    "plt.xlabel('alpha')\n",
    "plt.ylabel('Correct guess [%]')\n",
    "plt.title(f'{experiment}, total of samples= {len(tests)}')\n",
    "plt.grid()\n",
    "plt.show()"
   ]
  },
  {
   "cell_type": "code",
   "execution_count": 4,
   "id": "d0ad4a94",
   "metadata": {},
   "outputs": [
    {
     "data": {
      "image/png": "[encoded data removed]",
      "text/plain": [
       "<Figure size 640x480 with 1 Axes>"
      ]
     },
     "metadata": {},
     "output_type": "display_data"
    }
   ],
   "source": [
    "plt.bar(alpha, 100*total_guess/len(tests), width=0.02)\n",
    "plt.xlabel('alpha')\n",
    "plt.ylabel('Correct guess [%]')\n",
    "plt.title(f'{experiment}, total of samples= {len(tests)}')\n",
    "plt.grid()\n",
    "plt.show()"
   ]
  },
  {
   "cell_type": "markdown",
   "id": "09633e6c",
   "metadata": {},
   "source": [
    "Code for saving results in a csv file:"
   ]
  },
  {
   "cell_type": "code",
   "execution_count": null,
   "id": "81dcba5b",
   "metadata": {},
   "outputs": [
    {
     "name": "stdout",
     "output_type": "stream",
     "text": [
      "              0    1\n",
      "dpz_e       1.0  1.0\n",
      "alpha=1     0.0  0.0\n",
      "alpha=1.25  0.0  0.0\n",
      "alpha=1.5   0.0  0.0\n",
      "alpha=1.75  0.0  0.0\n",
      "alpha=2     0.0  0.0\n",
      "alpha=2.25  0.0  0.0\n",
      "alpha=2.5   0.0  0.0\n",
      "alpha=2.75  0.0  0.0\n",
      "alpha=3.0   0.0  0.0\n"
     ]
    }
   ],
   "source": [
    "df_out = pd.DataFrame({\n",
    "    \"experiment\": experiment,\n",
    "    \"alpha\": alpha,\n",
    "    \"total_guess\": total_guess.astype(int),\n",
    "    \"total_exp\":len(tests),\n",
    "    \"total_guess_p\": (total_guess.astype(int)/len(tests))\n",
    "})\n",
    "fname = f\"{experiment}_alpha_{alpha[0]}_{alpha[-1]}.csv\"\n",
    "df_out.to_csv(fname, index=False)\n",
    "\n",
    "\n",
    "\n",
    "df_cmp = pd.DataFrame(dpz_m_history, index=[f\"alpha={a}\" for a in alpha])\n",
    "df_cmp.loc[\"dpz_e\"] = dpz_e\n",
    "df_cmp = df_cmp.loc[[\"dpz_e\"] + [f\"alpha={a}\" for a in alpha]]"
   ]
  },
  {
   "cell_type": "markdown",
   "id": "710f5bf8",
   "metadata": {},
   "source": [
    "## Information about tests\n",
    "\n",
    "All the tests are contained in data_main.xlsx. For filtering per experiment, the following information is needed:"
   ]
  },
  {
   "cell_type": "code",
   "execution_count": 44,
   "id": "f54a3236",
   "metadata": {},
   "outputs": [
    {
     "ename": "TypeError",
     "evalue": "exceptions must derive from BaseException",
     "output_type": "error",
     "traceback": [
      "\u001b[31m---------------------------------------------------------------------------\u001b[39m",
      "\u001b[31mTypeError\u001b[39m                                 Traceback (most recent call last)",
      "\u001b[36mCell\u001b[39m\u001b[36m \u001b[39m\u001b[32mIn[44]\u001b[39m\u001b[32m, line 24\u001b[39m\n\u001b[32m     22\u001b[39m     dpz_e = [\u001b[32m1\u001b[39m, \u001b[32m0\u001b[39m, \u001b[32m1\u001b[39m, \u001b[32m0\u001b[39m, \u001b[32m1\u001b[39m, \u001b[32m0\u001b[39m, \u001b[32m1\u001b[39m, \u001b[32m0\u001b[39m, \u001b[32m1\u001b[39m, \u001b[32m0\u001b[39m, \u001b[32m1\u001b[39m, \u001b[32m0\u001b[39m, \u001b[32m1\u001b[39m, \u001b[32m1\u001b[39m]\n\u001b[32m     23\u001b[39m \u001b[38;5;28;01melse\u001b[39;00m:\n\u001b[32m---> \u001b[39m\u001b[32m24\u001b[39m     \u001b[38;5;28;01mraise\u001b[39;00m(\u001b[33m'\u001b[39m\u001b[33mUnrecognized experiment name\u001b[39m\u001b[33m'\u001b[39m)\n",
      "\u001b[31mTypeError\u001b[39m: exceptions must derive from BaseException"
     ]
    }
   ],
   "source": [
    "if (experiment ==\"2mmol_21C\"):\n",
    "    tests = [1, 9, 19]\n",
    "    dpz_e = [0, 0, 1]\n",
    "elif(experiment==\"2mmol_30C\"):\n",
    "    tests = [32, 42]\n",
    "    dpz_e = [1, 1]\n",
    "elif(experiment==\"5mmol_30C\"):\n",
    "    tests = [78, 104]\n",
    "    dpz_e = [1, 1]\n",
    "elif(experiment==\"10mmol_21C\"):\n",
    "    tests = [146, 111, 116, 149, 120, 152, 155, 122, 158, 157, 132, 160, 137, 143]\n",
    "    dpz_e = [1, 0, 1, 0, 1, 0, 1, 0, 1, 0, 1, 0, 1, 1]\n",
    "elif(experiment==\"10mmol_30C\"):\n",
    "    tests = [176, 174, 182, 181, 189, 188, 196, 194, 203, 201, 220, 229]\n",
    "    dpz_e = [1, 0, 1, 0, 1, 0, 1, 0, 1, 0, 1, 1]\n",
    "elif(experiment==\"15mmol_20C\"):\n",
    "    tests = [237, 236, 245, 243, 252, 250, 258, 255, 265, 262, 273, 269, 282, 292]\n",
    "    dpz_e = [1, 0, 1, 0, 1, 0, 1, 0, 1, 0, 1, 0, 1, 1]\n",
    "elif(experiment==\"15mmol_30C\"):\n",
    "    tests = [300, 299, 307, 306, 314, 312, 321, 318, 328, 325, 338, 332, 347, 357]\n",
    "    dpz_e = [1, 0, 1, 0, 1, 0, 1, 0, 1, 0, 1, 0, 1, 1]\n",
    "else:\n",
    "    raise('Unrecognized experiment name')"
   ]
  },
  {
   "cell_type": "code",
   "execution_count": 14,
   "id": "2e51b9ab",
   "metadata": {},
   "outputs": [
    {
     "name": "stdout",
     "output_type": "stream",
     "text": [
      "enterred\n",
      "enterred\n"
     ]
    },
    {
     "data": {
      "image/png": "[encoded data removed]",
      "text/plain": [
       "<Figure size 640x480 with 1 Axes>"
      ]
     },
     "metadata": {},
     "output_type": "display_data"
    }
   ],
   "source": [
    "# alpha = [1.5, 2]\n",
    "# total_guess = np.zeros(len(alpha))\n",
    "# dpz_e = [0, 0, 1]\n",
    "# dpz_m = np.zeros(len(dpz_e))\n",
    "guess = 0\n",
    "\n",
    "for j in range(len(results)):\n",
    "    dpz_m[j] = 1 if (results[j]['dpz_flooded']) else 0\n",
    "    if (dpz_m[j]==dpz_e[j]):\n",
    "        print('enterred')\n",
    "        guess +=1\n",
    "    else:\n",
    "        continue\n",
    "dpz_m_history.append(dpz_m)\n",
    "total_guess[k] = guess\n",
    "\n",
    "\n",
    "plt.bar(alpha, total_guess, width=0.2)\n",
    "plt.xlabel('alpha')\n",
    "plt.ylabel('Correct guess')\n",
    "plt.grid()\n",
    "plt.show()"
   ]
  },
  {
   "cell_type": "code",
   "execution_count": 54,
   "id": "0e2ff659",
   "metadata": {},
   "outputs": [
    {
     "name": "stdout",
     "output_type": "stream",
     "text": [
      "3\n"
     ]
    }
   ],
   "source": [
    "print(len(results))"
   ]
  }
 ],
 "metadata": {
  "kernelspec": {
   "display_name": "MA_venv (3.12.8)",
   "language": "python",
   "name": "python3"
  },
  "language_info": {
   "codemirror_mode": {
    "name": "ipython",
    "version": 3
   },
   "file_extension": ".py",
   "mimetype": "text/x-python",
   "name": "python",
   "nbconvert_exporter": "python",
   "pygments_lexer": "ipython3",
   "version": "3.12.8"
  }
 },
 "nbformat": 4,
 "nbformat_minor": 5
}
